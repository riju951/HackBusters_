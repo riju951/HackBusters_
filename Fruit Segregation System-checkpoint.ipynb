{
 "cells": [
  {
   "cell_type": "code",
   "execution_count": 1,
   "id": "714531a4",
   "metadata": {},
   "outputs": [],
   "source": [
    "import numpy as np\n",
    "import pandas as np\n",
    "import cv2\n",
    "import matplotlib.pyplot as plt\n",
    "from tensorflow.keras import models, layers\n",
    "import tensorflow as tf\n",
    "from keras.layers.core import Dense, Activation, Dropout, Flatten\n",
    "from sklearn.model_selection import train_test_split\n",
    "import os\n",
    "import random\n",
    "import glob"
   ]
  },
  {
   "cell_type": "code",
   "execution_count": 2,
   "id": "424653c4",
   "metadata": {
    "scrolled": false
   },
   "outputs": [],
   "source": [
    "# path_test = \"./FruitsDataset/fruits-360_dataset/fruits-360/Training\"\n",
    "# classes=[\"Apple Red 1\", \"Apricot\", \"Avacoda\", \"Banana\", \"Beetroot\", \"Blueberry\", \"Cherry 1\", \"Dates\", \"Grape Blue\",\n",
    "#          \"Grape Pink\", \"Grape White\", \"Corn\", \"Guava\", \"Kiwi\", \"Lychee\", \"Mango\", \"Onion Red\", \"Onion White\", \n",
    "#          \"Orange\", \"Papaya\", \"Peach\", \"Pear\", \"Pear2\", \"Potato Sweet\", \"Potato White\", \"Tomato 1\", \"Tomato 2\", \n",
    "#          \"Tomato 3\", \"Plum\", \"Plum 2\", \"Pomogranate\", \"Pineapple\", \"Potato Red\", \"Potato Red Washed\", \n",
    "#          \"Tomato not Ripened\", \"Watermelon\"]"
   ]
  },
  {
   "cell_type": "code",
   "execution_count": 3,
   "id": "7a9daa0e",
   "metadata": {
    "scrolled": true
   },
   "outputs": [],
   "source": [
    "# training = []\n",
    "# def createTrainingData():\n",
    "#     for C1 in classes:\n",
    "#         path = os.path.join(path_test, C1)\n",
    "#         class_num = classes.index(C1)\n",
    "#     for img in os.listdir(path):\n",
    "#         img_array = cv2.imread(os.path.join(path,img))\n",
    "#         training.append([img_array, class_num])"
   ]
  },
  {
   "cell_type": "code",
   "execution_count": 4,
   "id": "48cf3ed3",
   "metadata": {
    "scrolled": false
   },
   "outputs": [],
   "source": [
    "# createTrainingData()"
   ]
  },
  {
   "cell_type": "code",
   "execution_count": 5,
   "id": "0b9301a5",
   "metadata": {},
   "outputs": [],
   "source": [
    "Image_Size=256\n",
    "Batch_Size=32\n",
    "channels=3\n",
    "epochs=10"
   ]
  },
  {
   "cell_type": "code",
   "execution_count": 6,
   "id": "37a68f10",
   "metadata": {},
   "outputs": [
    {
     "name": "stdout",
     "output_type": "stream",
     "text": [
      "Found 67692 files belonging to 131 classes.\n"
     ]
    }
   ],
   "source": [
    "dataset=tf.keras.preprocessing.image_dataset_from_directory(\n",
    "\"./FruitsDataset/fruits-360_dataset/fruits-360/Training\",\n",
    "shuffle=True,\n",
    "    image_size= (Image_Size, Image_Size),\n",
    "    batch_size=Batch_Size\n",
    ")"
   ]
  },
  {
   "cell_type": "code",
   "execution_count": 7,
   "id": "0e4682cd",
   "metadata": {},
   "outputs": [
    {
     "data": {
      "text/plain": [
       "['Apple Braeburn',\n",
       " 'Apple Crimson Snow',\n",
       " 'Apple Golden 1',\n",
       " 'Apple Golden 2',\n",
       " 'Apple Golden 3',\n",
       " 'Apple Granny Smith',\n",
       " 'Apple Pink Lady',\n",
       " 'Apple Red 1',\n",
       " 'Apple Red 2',\n",
       " 'Apple Red 3',\n",
       " 'Apple Red Delicious',\n",
       " 'Apple Red Yellow 1',\n",
       " 'Apple Red Yellow 2',\n",
       " 'Apricot',\n",
       " 'Avocado',\n",
       " 'Avocado ripe',\n",
       " 'Banana',\n",
       " 'Banana Lady Finger',\n",
       " 'Banana Red',\n",
       " 'Beetroot',\n",
       " 'Blueberry',\n",
       " 'Cactus fruit',\n",
       " 'Cantaloupe 1',\n",
       " 'Cantaloupe 2',\n",
       " 'Carambula',\n",
       " 'Cauliflower',\n",
       " 'Cherry 1',\n",
       " 'Cherry 2',\n",
       " 'Cherry Rainier',\n",
       " 'Cherry Wax Black',\n",
       " 'Cherry Wax Red',\n",
       " 'Cherry Wax Yellow',\n",
       " 'Chestnut',\n",
       " 'Clementine',\n",
       " 'Cocos',\n",
       " 'Corn',\n",
       " 'Corn Husk',\n",
       " 'Cucumber Ripe',\n",
       " 'Cucumber Ripe 2',\n",
       " 'Dates',\n",
       " 'Eggplant',\n",
       " 'Fig',\n",
       " 'Ginger Root',\n",
       " 'Granadilla',\n",
       " 'Grape Blue',\n",
       " 'Grape Pink',\n",
       " 'Grape White',\n",
       " 'Grape White 2',\n",
       " 'Grape White 3',\n",
       " 'Grape White 4',\n",
       " 'Grapefruit Pink',\n",
       " 'Grapefruit White',\n",
       " 'Guava',\n",
       " 'Hazelnut',\n",
       " 'Huckleberry',\n",
       " 'Kaki',\n",
       " 'Kiwi',\n",
       " 'Kohlrabi',\n",
       " 'Kumquats',\n",
       " 'Lemon',\n",
       " 'Lemon Meyer',\n",
       " 'Limes',\n",
       " 'Lychee',\n",
       " 'Mandarine',\n",
       " 'Mango',\n",
       " 'Mango Red',\n",
       " 'Mangostan',\n",
       " 'Maracuja',\n",
       " 'Melon Piel de Sapo',\n",
       " 'Mulberry',\n",
       " 'Nectarine',\n",
       " 'Nectarine Flat',\n",
       " 'Nut Forest',\n",
       " 'Nut Pecan',\n",
       " 'Onion Red',\n",
       " 'Onion Red Peeled',\n",
       " 'Onion White',\n",
       " 'Orange',\n",
       " 'Papaya',\n",
       " 'Passion Fruit',\n",
       " 'Peach',\n",
       " 'Peach 2',\n",
       " 'Peach Flat',\n",
       " 'Pear',\n",
       " 'Pear 2',\n",
       " 'Pear Abate',\n",
       " 'Pear Forelle',\n",
       " 'Pear Kaiser',\n",
       " 'Pear Monster',\n",
       " 'Pear Red',\n",
       " 'Pear Stone',\n",
       " 'Pear Williams',\n",
       " 'Pepino',\n",
       " 'Pepper Green',\n",
       " 'Pepper Orange',\n",
       " 'Pepper Red',\n",
       " 'Pepper Yellow',\n",
       " 'Physalis',\n",
       " 'Physalis with Husk',\n",
       " 'Pineapple',\n",
       " 'Pineapple Mini',\n",
       " 'Pitahaya Red',\n",
       " 'Plum',\n",
       " 'Plum 2',\n",
       " 'Plum 3',\n",
       " 'Pomegranate',\n",
       " 'Pomelo Sweetie',\n",
       " 'Potato Red',\n",
       " 'Potato Red Washed',\n",
       " 'Potato Sweet',\n",
       " 'Potato White',\n",
       " 'Quince',\n",
       " 'Rambutan',\n",
       " 'Raspberry',\n",
       " 'Redcurrant',\n",
       " 'Salak',\n",
       " 'Strawberry',\n",
       " 'Strawberry Wedge',\n",
       " 'Tamarillo',\n",
       " 'Tangelo',\n",
       " 'Tomato 1',\n",
       " 'Tomato 2',\n",
       " 'Tomato 3',\n",
       " 'Tomato 4',\n",
       " 'Tomato Cherry Red',\n",
       " 'Tomato Heart',\n",
       " 'Tomato Maroon',\n",
       " 'Tomato Yellow',\n",
       " 'Tomato not Ripened',\n",
       " 'Walnut',\n",
       " 'Watermelon']"
      ]
     },
     "execution_count": 7,
     "metadata": {},
     "output_type": "execute_result"
    }
   ],
   "source": [
    "class_names=dataset.class_names\n",
    "class_names"
   ]
  },
  {
   "cell_type": "code",
   "execution_count": 8,
   "id": "d73243f3",
   "metadata": {},
   "outputs": [
    {
     "data": {
      "text/plain": [
       "2116"
      ]
     },
     "execution_count": 8,
     "metadata": {},
     "output_type": "execute_result"
    }
   ],
   "source": [
    "len(dataset)"
   ]
  },
  {
   "cell_type": "code",
   "execution_count": 9,
   "id": "140c28aa",
   "metadata": {},
   "outputs": [
    {
     "data": {
      "text/plain": [
       "<TakeDataset element_spec=(TensorSpec(shape=(None, 256, 256, 3), dtype=tf.float32, name=None), TensorSpec(shape=(None,), dtype=tf.int32, name=None))>"
      ]
     },
     "execution_count": 9,
     "metadata": {},
     "output_type": "execute_result"
    }
   ],
   "source": [
    "dataset.take(2)"
   ]
  },
  {
   "cell_type": "code",
   "execution_count": 10,
   "id": "197c00b8",
   "metadata": {},
   "outputs": [
    {
     "name": "stdout",
     "output_type": "stream",
     "text": [
      "(256, 256, 3)\n"
     ]
    },
    {
     "data": {
      "image/png": "[encoded data removed]",
      "text/plain": [
       "<Figure size 432x288 with 12 Axes>"
      ]
     },
     "metadata": {
      "needs_background": "light"
     },
     "output_type": "display_data"
    }
   ],
   "source": [
    "for image_batch, label_batch in dataset.take(1):\n",
    "    for x in range (0, 12):\n",
    "        ax=plt.subplot(3, 4, x+1)\n",
    "        plt.imshow(image_batch[x].numpy().astype(\"uint8\"))\n",
    "        plt.axis(\"off\")\n",
    "        plt.title(class_names[label_batch[x]])\n",
    "    print(image_batch[0].shape)\n",
    "    \n",
    "#     print(label_batch.numpy())"
   ]
  },
  {
   "cell_type": "code",
   "execution_count": 11,
   "id": "0fedf4b6",
   "metadata": {},
   "outputs": [],
   "source": [
    "# 80% training & 20% (10% validation and 10% test data)"
   ]
  },
  {
   "cell_type": "code",
   "execution_count": 12,
   "id": "f9b70698",
   "metadata": {},
   "outputs": [
    {
     "data": {
      "text/plain": [
       "1692.8000000000002"
      ]
     },
     "execution_count": 12,
     "metadata": {},
     "output_type": "execute_result"
    }
   ],
   "source": [
    "training_size=0.8\n",
    "len(dataset)*training_size"
   ]
  },
  {
   "cell_type": "code",
   "execution_count": 13,
   "id": "a83a2c67",
   "metadata": {},
   "outputs": [
    {
     "data": {
      "text/plain": [
       "516"
      ]
     },
     "execution_count": 13,
     "metadata": {},
     "output_type": "execute_result"
    }
   ],
   "source": [
    "train_ds=dataset.take(516)\n",
    "len(train_ds)"
   ]
  },
  {
   "cell_type": "code",
   "execution_count": 14,
   "id": "605f5a27",
   "metadata": {},
   "outputs": [
    {
     "data": {
      "text/plain": [
       "1600"
      ]
     },
     "execution_count": 14,
     "metadata": {},
     "output_type": "execute_result"
    }
   ],
   "source": [
    "test_ds=dataset.skip(516)\n",
    "len(test_ds)"
   ]
  },
  {
   "cell_type": "code",
   "execution_count": 15,
   "id": "1ad2e554",
   "metadata": {},
   "outputs": [
    {
     "data": {
      "text/plain": [
       "211.60000000000002"
      ]
     },
     "execution_count": 15,
     "metadata": {},
     "output_type": "execute_result"
    }
   ],
   "source": [
    "val_size=0.1\n",
    "len(dataset)*val_size"
   ]
  },
  {
   "cell_type": "code",
   "execution_count": 16,
   "id": "5d114e49",
   "metadata": {},
   "outputs": [
    {
     "data": {
      "text/plain": [
       "64"
      ]
     },
     "execution_count": 16,
     "metadata": {},
     "output_type": "execute_result"
    }
   ],
   "source": [
    "val_ds=test_ds.take(64)\n",
    "len(val_ds)"
   ]
  },
  {
   "cell_type": "code",
   "execution_count": 17,
   "id": "66895853",
   "metadata": {},
   "outputs": [
    {
     "data": {
      "text/plain": [
       "1536"
      ]
     },
     "execution_count": 17,
     "metadata": {},
     "output_type": "execute_result"
    }
   ],
   "source": [
    "test_ds=test_ds.skip(64)\n",
    "len(test_ds)"
   ]
  },
  {
   "cell_type": "code",
   "execution_count": 18,
   "id": "3c11a7c2",
   "metadata": {},
   "outputs": [],
   "source": [
    "def get_dataset_partition_tf(ds, train_split=0.8, val_split=0.1, test_split=0.1, shuffle=True, shuffle_size=10000):\n",
    "        ds_size=len(ds)\n",
    "        if shuffle:\n",
    "            ds=ds.shuffle(shuffle_size, seed=12)\n",
    "            \n",
    "        train_size=int(train_split*ds_size)\n",
    "        val_size=int(val_split*ds_size)\n",
    "        \n",
    "        train_ds=ds.take(train_size)\n",
    "        val_ds=ds.skip(train_size).take(val_size)\n",
    "        test_ds=ds.skip(train_size).skip(val_size)\n",
    "        \n",
    "        return train_ds, val_ds, test_ds"
   ]
  },
  {
   "cell_type": "code",
   "execution_count": 19,
   "id": "ae535cda",
   "metadata": {},
   "outputs": [],
   "source": [
    "train_ds, val_ds, test_ds=get_dataset_partition_tf(dataset)"
   ]
  },
  {
   "cell_type": "code",
   "execution_count": 20,
   "id": "52c0f667",
   "metadata": {},
   "outputs": [
    {
     "data": {
      "text/plain": [
       "1692"
      ]
     },
     "execution_count": 20,
     "metadata": {},
     "output_type": "execute_result"
    }
   ],
   "source": [
    "len(train_ds)"
   ]
  },
  {
   "cell_type": "code",
   "execution_count": 21,
   "id": "9e3f6db9",
   "metadata": {},
   "outputs": [
    {
     "data": {
      "text/plain": [
       "211"
      ]
     },
     "execution_count": 21,
     "metadata": {},
     "output_type": "execute_result"
    }
   ],
   "source": [
    "len(val_ds)"
   ]
  },
  {
   "cell_type": "code",
   "execution_count": 22,
   "id": "42af0309",
   "metadata": {},
   "outputs": [
    {
     "data": {
      "text/plain": [
       "213"
      ]
     },
     "execution_count": 22,
     "metadata": {},
     "output_type": "execute_result"
    }
   ],
   "source": [
    "len(test_ds)"
   ]
  },
  {
   "cell_type": "code",
   "execution_count": 23,
   "id": "4b9b9715",
   "metadata": {},
   "outputs": [],
   "source": [
    "train_ds=train_ds.cache().shuffle(1000).prefetch(buffer_size=tf.data.AUTOTUNE)\n",
    "val_ds=val_ds.cache().shuffle(1000).prefetch(buffer_size=tf.data.AUTOTUNE)\n",
    "test_ds=test_ds.cache().shuffle(1000).prefetch(buffer_size=tf.data.AUTOTUNE)"
   ]
  },
  {
   "cell_type": "code",
   "execution_count": 24,
   "id": "f3330582",
   "metadata": {},
   "outputs": [],
   "source": [
    "resize_and_rescale=tf.keras.Sequential([\n",
    "    layers.experimental.preprocessing.Resizing(Image_Size, Image_Size),\n",
    "    layers.experimental.preprocessing.Rescaling(1.0/255)\n",
    "])"
   ]
  },
  {
   "cell_type": "code",
   "execution_count": 25,
   "id": "11777867",
   "metadata": {},
   "outputs": [],
   "source": [
    "#NeuralNetwork Architecture\n",
    "input_shape=(Batch_Size, Image_Size, Image_Size, channels)\n",
    "n_classes=15\n",
    "model=models.Sequential([\n",
    "    resize_and_rescale,\n",
    "#     data_augmentation,\n",
    "    layers.Conv2D(32, kernel_size=(3,3), activation=\"relu\", input_shape=input_shape),\n",
    "    layers.MaxPooling2D((2,2)),\n",
    "    layers.Conv2D(64, kernel_size=(3,3), activation=\"relu\"),\n",
    "    layers.MaxPooling2D((2,2)),\n",
    "    layers.Conv2D(64, kernel_size=(3,3), activation=\"relu\"),\n",
    "    layers.MaxPooling2D((2,2)),\n",
    "    layers.Conv2D(64, kernel_size=(3,3), activation=\"relu\"),\n",
    "    layers.MaxPooling2D((2,2)),\n",
    "    layers.Conv2D(64, kernel_size=(3,3), activation=\"relu\"),\n",
    "    layers.MaxPooling2D((2,2)),\n",
    "    layers.Conv2D(64, kernel_size=(3,3), activation=\"relu\"),\n",
    "    layers.MaxPooling2D((2,2)),\n",
    "    layers.Flatten(),\n",
    "    layers.Dense(64, activation='relu'),\n",
    "    layers.Dense(n_classes, activation='softmax'),   \n",
    "])\n",
    "model.build(input_shape=input_shape)"
   ]
  },
  {
   "cell_type": "code",
   "execution_count": 26,
   "id": "74fd0143",
   "metadata": {},
   "outputs": [
    {
     "name": "stdout",
     "output_type": "stream",
     "text": [
      "Model: \"sequential_1\"\n",
      "_________________________________________________________________\n",
      " Layer (type)                Output Shape              Param #   \n",
      "=================================================================\n",
      " sequential (Sequential)     (32, 256, 256, 3)         0         \n",
      "                                                                 \n",
      " conv2d (Conv2D)             (32, 254, 254, 32)        896       \n",
      "                                                                 \n",
      " max_pooling2d (MaxPooling2D  (32, 127, 127, 32)       0         \n",
      " )                                                               \n",
      "                                                                 \n",
      " conv2d_1 (Conv2D)           (32, 125, 125, 64)        18496     \n",
      "                                                                 \n",
      " max_pooling2d_1 (MaxPooling  (32, 62, 62, 64)         0         \n",
      " 2D)                                                             \n",
      "                                                                 \n",
      " conv2d_2 (Conv2D)           (32, 60, 60, 64)          36928     \n",
      "                                                                 \n",
      " max_pooling2d_2 (MaxPooling  (32, 30, 30, 64)         0         \n",
      " 2D)                                                             \n",
      "                                                                 \n",
      " conv2d_3 (Conv2D)           (32, 28, 28, 64)          36928     \n",
      "                                                                 \n",
      " max_pooling2d_3 (MaxPooling  (32, 14, 14, 64)         0         \n",
      " 2D)                                                             \n",
      "                                                                 \n",
      " conv2d_4 (Conv2D)           (32, 12, 12, 64)          36928     \n",
      "                                                                 \n",
      " max_pooling2d_4 (MaxPooling  (32, 6, 6, 64)           0         \n",
      " 2D)                                                             \n",
      "                                                                 \n",
      " conv2d_5 (Conv2D)           (32, 4, 4, 64)            36928     \n",
      "                                                                 \n",
      " max_pooling2d_5 (MaxPooling  (32, 2, 2, 64)           0         \n",
      " 2D)                                                             \n",
      "                                                                 \n",
      " flatten (Flatten)           (32, 256)                 0         \n",
      "                                                                 \n",
      " dense (Dense)               (32, 64)                  16448     \n",
      "                                                                 \n",
      " dense_1 (Dense)             (32, 15)                  975       \n",
      "                                                                 \n",
      "=================================================================\n",
      "Total params: 184,527\n",
      "Trainable params: 184,527\n",
      "Non-trainable params: 0\n",
      "_________________________________________________________________\n"
     ]
    }
   ],
   "source": [
    "model.summary()"
   ]
  },
  {
   "cell_type": "code",
   "execution_count": 27,
   "id": "106f19fa",
   "metadata": {},
   "outputs": [],
   "source": [
    "model.compile(optimizer='Adam', \n",
    "              loss=tf.keras.losses.SparseCategoricalCrossentropy(from_logits=False),\n",
    "              metrics=['accuracy']\n",
    ")"
   ]
  },
  {
   "cell_type": "code",
   "execution_count": null,
   "id": "f5bd3fe1",
   "metadata": {},
   "outputs": [
    {
     "name": "stdout",
     "output_type": "stream",
     "text": [
      "Epoch 1/10\n"
     ]
    }
   ],
   "source": [
    "model.fit(\n",
    "    train_ds, \n",
    "    epochs=epochs, \n",
    "    batch_size=Batch_Size, \n",
    "    verbose=1, \n",
    "    validation_data=val_ds\n",
    ")"
   ]
  },
  {
   "cell_type": "code",
   "execution_count": null,
   "id": "8599f879",
   "metadata": {},
   "outputs": [],
   "source": []
  }
 ],
 "metadata": {
  "kernelspec": {
   "display_name": "Python 3",
   "language": "python",
   "name": "python3"
  },
  "language_info": {
   "codemirror_mode": {
    "name": "ipython",
    "version": 3
   },
   "file_extension": ".py",
   "mimetype": "text/x-python",
   "name": "python",
   "nbconvert_exporter": "python",
   "pygments_lexer": "ipython3",
   "version": "3.9.16"
  }
 },
 "nbformat": 4,
 "nbformat_minor": 5
}
